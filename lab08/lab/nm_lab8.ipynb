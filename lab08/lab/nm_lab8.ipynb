{
  "cells": [
    {
      "cell_type": "markdown",
      "metadata": {
        "id": "xXUCLEcRdvZH"
      },
      "source": [
        "### Метод переменных направлений\n",
        "\n",
        "Для момента времени $k+1/2$ производная по иксу будет аппроксимироваться неявно, а по игреку - явно. Для момента времени $k+1$ наоборот.\n",
        "\n",
        "#### Шаг 1.\n",
        "\n",
        "Решаем систему уравнений для всех $j$, чтобы получить значения в момент времени $k+1/2$:\n",
        "\n",
        "$\\large\\begin{equation*}\n",
        " \\begin{cases}\n",
        "   bu_{1j}^{k+1/2}+cu_{2j}^{k+1/2}=d_1, \n",
        "   \\\\\n",
        "   au_{i-1j}^{k+1/2}+bu_{ij}^{k+1/2}+cu_{i+1j}^{k+1/2}=d, ~~~i=2\\dots N-2,\n",
        "   \\\\\n",
        "   au_{N-2j}^{k+1/2}+bu_{N-1j}^{k+1/2}=d_{N-1},\n",
        " \\end{cases}\n",
        "\\end{equation*}$\n",
        "\n",
        "$a=c=-a\\tau h_y^2$\n",
        "\n",
        "$b_j=2h_x^2h_y^2 + 2a\\tau h_y^2$\n",
        "\n",
        "$d = a\\tau h_x^2 u_{ij-1}^k+(2h_x^2h_y^2 - 2a\\tau h_x^2)u_{ij}^k+a\\tau h_x^2u_{ij+1}^k$\n",
        "\n",
        "$d_1=d - au_{0j}^{k+1/2}$\n",
        "\n",
        "$d_{N-1}=d - cu_{Nj}^{k+1/2}$\n",
        "\n",
        "#### Шаг 2.\n",
        "\n",
        "Решаем систему уравнений для всех $i$, чтобы получить значения в момент времени $k+1$:\n",
        "\n",
        "$\\large\\begin{equation*}\n",
        " \\begin{cases}\n",
        "   bu_{1j}^{k+1}+cu_{2j}^{k+1}=d_1, \n",
        "   \\\\\n",
        "   au_{i-1j}^{k+1}+bu_{ij}^{k+1}+cu_{i+1j}^{k+1}=d, ~~~i=2\\dots N-2,\n",
        "   \\\\\n",
        "   au_{N-2j}^{k+1}+bu_{N-1j}^{k+1}=d_{N-1},\n",
        " \\end{cases}\n",
        "\\end{equation*}$\n",
        "\n",
        "$a=c=-a\\tau h_x^2$\n",
        "\n",
        "$b_j=2h_x^2h_y^2 + 2a\\tau h_x^2$\n",
        "\n",
        "$d = a\\tau h_y^2 u_{i-1j}^{k+1/2}+(2h_x^2h_y^2 - 2a\\tau h_y^2)u_{ij}^{k+1/2}+a\\tau h_y^2u_{i+1j}^{k+1/2}$\n",
        "\n",
        "$d_1=d - au_{i0}^{k+1}$\n",
        "\n",
        "$d_{N-1}=d - cu_{iN}^{k+1}$\n",
        "\n",
        "Системы будем решать методом прогонки"
      ]
    },
    {
      "cell_type": "code",
      "execution_count": null,
      "metadata": {
        "vscode": {
          "languageId": "plaintext"
        }
      },
      "outputs": [],
      "source": []
    },
    {
      "cell_type": "markdown",
      "metadata": {
        "id": "WavZ_HDJ7Wnw"
      },
      "source": [
        "### Метод дробных шагов\n",
        "\n",
        "Метод дробных шагов использует только неявные схемы\n",
        "\n",
        "#### Шаг 1.\n",
        "\n",
        "Решаем систему уравнений для всех $j$, чтобы получить значения в момент времени $k+1/2$:\n",
        "\n",
        "$\\large\\begin{equation*}\n",
        " \\begin{cases}\n",
        "   bu_{1j}^{k+1/2}+cu_{2j}^{k+1/2}=d_1, \n",
        "   \\\\\n",
        "   au_{i-1j}^{k+1/2}+bu_{ij}^{k+1/2}+cu_{i+1j}^{k+1/2}=d, ~~~i=2\\dots N-2,\n",
        "   \\\\\n",
        "   au_{N-2j}^{k+1/2}+bu_{N-1j}^{k+1/2}=d_{N-1},\n",
        " \\end{cases}\n",
        "\\end{equation*}$\n",
        "\n",
        "$a=c=-a\\tau$\n",
        "\n",
        "$b_j=h_x^2 + 2a\\tau$\n",
        "\n",
        "$d = h_x^2u_{ij}^k$\n",
        "\n",
        "$d_1=d - au_{0j}^{k+1/2}$\n",
        "\n",
        "$d_{N-1}=d - cu_{Nj}^{k+1/2}$\n",
        "\n",
        "#### Шаг 2.\n",
        "\n",
        "Решаем систему уравнений для всех $i$, чтобы получить значения в момент времени $k+1$:\n",
        "\n",
        "$\\large\\begin{equation*}\n",
        " \\begin{cases}\n",
        "   bu_{1j}^{k+1}+cu_{2j}^{k+1}=d_1, \n",
        "   \\\\\n",
        "   au_{i-1j}^{k+1}+bu_{ij}^{k+1}+cu_{i+1j}^{k+1}=d, ~~~i=2\\dots N-2,\n",
        "   \\\\\n",
        "   au_{N-2j}^{k+1}+bu_{N-1j}^{k+1}=d_{N-1},\n",
        " \\end{cases}\n",
        "\\end{equation*}$\n",
        "\n",
        "$a=c=-a\\tau h_x^2$\n",
        "\n",
        "$b_j=2h_x^2h_y^2 + 2a\\tau h_x^2$\n",
        "\n",
        "$d = a\\tau h_y^2 u_{i-1j}^{k+1/2}+(2h_x^2h_y^2 - 2a\\tau h_y^2)u_{ij}^{k+1/2}+a\\tau h_y^2u_{i+1j}^{k+1/2}$\n",
        "\n",
        "$d_1=d - au_{i0}^{k+1}$\n",
        "\n",
        "$d_{N-1}=d - cu_{iN}^{k+1}$"
      ]
    }
  ],
  "metadata": {
    "colab": {
      "provenance": []
    },
    "kernelspec": {
      "display_name": "Python 3",
      "name": "python3"
    },
    "language_info": {
      "name": "python"
    }
  },
  "nbformat": 4,
  "nbformat_minor": 0
}
